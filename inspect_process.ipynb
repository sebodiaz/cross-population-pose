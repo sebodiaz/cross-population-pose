{
 "cells": [
  {
   "cell_type": "markdown",
   "metadata": {},
   "source": [
    "This is a notebook to inspect the outputted processed files."
   ]
  },
  {
   "cell_type": "code",
   "execution_count": 1,
   "metadata": {},
   "outputs": [],
   "source": [
    "import os\n",
    "import nibabel as nib\n",
    "import numpy as np\n",
    "import matplotlib.pyplot as plt"
   ]
  },
  {
   "cell_type": "code",
   "execution_count": 124,
   "metadata": {},
   "outputs": [],
   "source": [
    "def load_subj(path, z_index=None):\n",
    "    files   = sorted(os.listdir(path))\n",
    "    o, e = [], []\n",
    "    if z_index is None:\n",
    "        for i, f in enumerate(files):\n",
    "            \n",
    "            n = nib.load(os.path.join(path, f)).get_fdata()\n",
    "            if i == 0: print(f'Volume shape is {n.shape}')\n",
    "            zz = n.shape[-1] // 2\n",
    "            o.append(n[..., zz])\n",
    "    else:\n",
    "        for i, f in enumerate(files):\n",
    "            \n",
    "            n = nib.load(os.path.join(path, f)).get_fdata()\n",
    "            if i == 0: print(f'Volume shape is {n.shape}')\n",
    "            o.append(n[..., z_index])\n",
    "    o=np.stack(o,axis=-1)\n",
    "    e=np.copy(o)\n",
    "    e=e[:, :, np.arange(o.shape[-1]).reshape(o.shape[-1]//2, 2)[:, ::-1].ravel()]\n",
    "    return o, e\n",
    "def comp(o, e, axis=\"x\", index=45):\n",
    "    if axis == \"x\":\n",
    "        plt.subplot(1,2,1)\n",
    "        plt.imshow(o[index, :, :])\n",
    "        plt.subplot(1,2,2)\n",
    "        plt.imshow(e[index, :, :])\n",
    "    else:\n",
    "        plt.subplot(1,2,1)\n",
    "        plt.imshow(o[:, index, :])\n",
    "        plt.subplot(1,2,2)\n",
    "        plt.imshow(e[:, index, :])    \n",
    "    plt.show()"
   ]
  },
  {
   "cell_type": "code",
   "execution_count": 159,
   "metadata": {},
   "outputs": [
    {
     "name": "stdout",
     "output_type": "stream",
     "text": [
      "Volume shape is (150, 150, 70)\n"
     ]
    }
   ],
   "source": [
    "path    = \"/data/vision/polina/projects/fetal/common-data/clinical-images/all/C008/032\"\n",
    "o, e    = load_subj(path, z_index=None)"
   ]
  },
  {
   "cell_type": "code",
   "execution_count": null,
   "metadata": {},
   "outputs": [],
   "source": [
    "for j in range(30, 140, 5):\n",
    "    comp(o, e, index=j, axis=\"x\")"
   ]
  },
  {
   "cell_type": "code",
   "execution_count": 1,
   "metadata": {},
   "outputs": [
    {
     "name": "stdout",
     "output_type": "stream",
     "text": [
      "PCK per keypoint: [0.86500762 0.80558888 0.94785375 0.92678746 0.97257862 0.91633277\n",
      " 0.86642913 0.81574881 0.84850123 0.94012909 0.89821258 0.96105527\n",
      " 0.93626787 0.83182746 0.80209409]\n",
      "Mean PCK across all keypoints: 0.8889609745658963\n"
     ]
    }
   ],
   "source": [
    "import scipy\n",
    "import numpy as np\n",
    "import os\n",
    "\n",
    "all_pck = []\n",
    "#t = \"zw/research/\"\n",
    "t = \"tm_ft_tzw_c96\"\n",
    "subjects = [f for f in os.listdir(f\"/data/vision/polina/users/sebodiaz/projects/pose_fin/results/inference/{t}/\") if not f.startswith(\"Z\")]\n",
    "\n",
    "for subj in subjects:\n",
    "    s = scipy.io.loadmat(f\"/data/vision/polina/users/sebodiaz/projects/pose_fin/results/inference/{t}/{subj}\")['joint_coord']\n",
    "    g = scipy.io.loadmat(f\"/data/vision/polina/projects/fetal/common-data/pose/SeboPoseLabel/{subj}\")['joint_coord']\n",
    "    d = np.linalg.norm(g - s, axis=1)  # Shape (T, 15)\n",
    "    pck = (d <= 3.3).mean(axis=0)\n",
    "    all_pck.append(pck)\n",
    "mean_pck = np.mean(all_pck, axis=0)\n",
    "print(\"PCK per keypoint:\", mean_pck)\n",
    "print(\"Mean PCK across all keypoints:\", mean_pck.mean())"
   ]
  },
  {
   "cell_type": "code",
   "execution_count": 3,
   "metadata": {},
   "outputs": [
    {
     "name": "stdout",
     "output_type": "stream",
     "text": [
      "PCK per keypoint: [0.85657957 0.86304418 0.98570811 0.96798235 0.98116799 0.96406078\n",
      " 0.92090544 0.97240768 0.95898313 0.96377358 0.95048175 0.99128786\n",
      " 0.9802882  0.91270168 0.90646869]\n",
      "Mean PCK across all keypoints: 0.9450560644569179\n"
     ]
    }
   ],
   "source": [
    "import scipy\n",
    "import numpy as np\n",
    "import os\n",
    "\n",
    "all_pck = []\n",
    "#t = \"zw/research/\"\n",
    "t = \"zw/research/\"\n",
    "subjects = [f for f in os.listdir(f\"/data/vision/polina/users/sebodiaz/projects/pose_fin/results/inference/{t}/\") if not f.startswith(\"Z\")]\n",
    "\n",
    "for subj in subjects:\n",
    "    s = scipy.io.loadmat(f\"/data/vision/polina/users/sebodiaz/projects/pose_fin/results/inference/{t}/{subj}\")['joint_coord']\n",
    "    g = scipy.io.loadmat(f\"/data/vision/polina/projects/fetal/common-data/pose/SeboPoseLabel/{subj}\")['joint_coord']\n",
    "    d = np.linalg.norm(g - s, axis=1)  # Shape (T, 15)\n",
    "    pck = (d <= 3.3).mean(axis=0)\n",
    "    all_pck.append(pck)\n",
    "mean_pck = np.mean(all_pck, axis=0)\n",
    "print(\"PCK per keypoint:\", mean_pck)\n",
    "print(\"Mean PCK across all keypoints:\", mean_pck.mean())"
   ]
  },
  {
   "cell_type": "code",
   "execution_count": 12,
   "metadata": {},
   "outputs": [
    {
     "name": "stdout",
     "output_type": "stream",
     "text": [
      "0.9454237488574669\n"
     ]
    }
   ],
   "source": [
    "import scipy\n",
    "import numpy as np\n",
    "import os\n",
    "\n",
    "all_pck = []\n",
    "all_pckz = []\n",
    "t = \"inpaint_augs\"\n",
    "subjects = [f for f in os.listdir(f\"/data/vision/polina/users/sebodiaz/projects/pose_fin/results/inference/{t}/\") if not f.startswith(\"Z\")]\n",
    "\n",
    "for subj in subjects:\n",
    "    s = scipy.io.loadmat(f\"/data/vision/polina/users/sebodiaz/projects/pose_fin/results/inference/{t}/{subj}\")['joint_coord']\n",
    "    g = scipy.io.loadmat(f\"/data/vision/polina/projects/fetal/common-data/pose/SeboPoseLabel/{subj}\")['joint_coord']\n",
    "    p = scipy.io.loadmat(f\"/data/vision/polina/users/sebodiaz/projects/pose_fin/results/inference/proposed/research/{subj}\")['joint_coord']\n",
    "    d = np.linalg.norm(g - s, axis=1)  # Shape (T, 15)\n",
    "    pck = (d <= 5).mean(axis=0)\n",
    "    all_pck.append(pck)\n",
    "    pckz = (np.linalg.norm(g - p, axis=1) <= 5).mean(0)\n",
    "    all_pckz.append(pckz)\n",
    "mean_pck = np.mean(all_pck, axis=0)\n",
    "mean_pckz = np.mean(all_pckz, axis=0)\n",
    "\n",
    "print(mean_pck.mean())"
   ]
  },
  {
   "cell_type": "code",
   "execution_count": 13,
   "metadata": {},
   "outputs": [
    {
     "name": "stdout",
     "output_type": "stream",
     "text": [
      "0.9150850803012442\n"
     ]
    }
   ],
   "source": [
    "print(mean_pckz.mean())"
   ]
  },
  {
   "cell_type": "code",
   "execution_count": 22,
   "metadata": {},
   "outputs": [
    {
     "data": {
      "text/plain": [
       "(array([0.15   , 0.2375 , 0.     , 0.     , 0.     , 0.00625, 0.     ,\n",
       "        0.     , 0.     , 0.     , 0.     , 0.     , 0.     , 0.3    ,\n",
       "        0.03125]),\n",
       " 0.048333333333333325)"
      ]
     },
     "execution_count": 22,
     "metadata": {},
     "output_type": "execute_result"
    }
   ],
   "source": [
    "import scipy\n",
    "import numpy as np\n",
    "import os\n",
    "\n",
    "subj = \"090517L\"\n",
    "s = scipy.io.loadmat(f\"/data/vision/polina/users/sebodiaz/projects/pose_fin/results/inference/inpaint_augs/{subj}.mat\")['joint_coord']\n",
    "g = scipy.io.loadmat(f\"/data/vision/polina/projects/fetal/common-data/pose/SeboPoseLabel/{subj}.mat\")['joint_coord']\n",
    "p = scipy.io.loadmat(f\"/data/vision/polina/users/sebodiaz/projects/pose_fin/results/inference/proposed/research/{subj}.mat\")['joint_coord']\n",
    "d = np.linalg.norm(g - s, axis=1)  # Shape (T, 15)\n",
    "\n",
    "spck = (d <= 3.33).mean(axis=0)\n",
    "d = np.linalg.norm(g - p, axis=1)\n",
    "ppck = (d <= 3.33).mean(axis=0)\n",
    "spck - ppck, (spck-ppck).mean()"
   ]
  },
  {
   "cell_type": "code",
   "execution_count": 4,
   "metadata": {},
   "outputs": [
    {
     "name": "stdout",
     "output_type": "stream",
     "text": [
      "PCK per keypoint: [0.82796894 0.80174255 0.91596341 0.91506279 0.97982939 0.89492459\n",
      " 0.88375251 0.91375926 0.9080143  0.9200423  0.92640106 0.95929004\n",
      " 0.94533638 0.82310189 0.83662657]\n",
      "Mean PCK across all keypoints: 0.8967877307049096\n"
     ]
    }
   ],
   "source": [
    "import scipy\n",
    "import numpy as np\n",
    "import os\n",
    "\n",
    "all_pck = []\n",
    "#t = \"zw/research/\"\n",
    "t = \"proposed\"\n",
    "subjects = [f for f in os.listdir(f\"/data/vision/polina/users/sebodiaz/projects/pose_fin/results/inference/{t}/research/\") if not f.startswith(\"Z\")]\n",
    "\n",
    "for subj in subjects:\n",
    "    s = scipy.io.loadmat(f\"/data/vision/polina/users/sebodiaz/projects/pose_fin/results/inference/{t}/research/{subj}\")['joint_coord']\n",
    "    g = scipy.io.loadmat(f\"/data/vision/polina/projects/fetal/common-data/pose/SeboPoseLabel/{subj}\")['joint_coord']\n",
    "    d = np.linalg.norm(g - s, axis=1)  # Shape (T, 15)\n",
    "    pck = (d <= 3.3).mean(axis=0)\n",
    "    all_pck.append(pck)\n",
    "mean_pck = np.mean(all_pck, axis=0)\n",
    "print(\"PCK per keypoint:\", mean_pck)\n",
    "print(\"Mean PCK across all keypoints:\", mean_pck.mean())"
   ]
  }
 ],
 "metadata": {
  "kernelspec": {
   "display_name": "pose",
   "language": "python",
   "name": "python3"
  },
  "language_info": {
   "codemirror_mode": {
    "name": "ipython",
    "version": 3
   },
   "file_extension": ".py",
   "mimetype": "text/x-python",
   "name": "python",
   "nbconvert_exporter": "python",
   "pygments_lexer": "ipython3",
   "version": "3.10.16"
  }
 },
 "nbformat": 4,
 "nbformat_minor": 2
}
